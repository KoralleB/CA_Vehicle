{
 "cells": [
  {
   "cell_type": "markdown",
   "metadata": {
    "slideshow": {
     "slide_type": "slide"
    }
   },
   "source": [
    "# National Household Travel Survey (NHTS) 2017\n",
    "\n",
    "### Koral Buch\n",
    "### Kenneth Broadhead"
   ]
  },
  {
   "cell_type": "markdown",
   "metadata": {
    "slideshow": {
     "slide_type": "slide"
    }
   },
   "source": [
    "## Questions of interest\n",
    "\n",
    "* Predict market penetration of alternative fuel vehicles.\n",
    "* Identify the demographic and socioeconomic attributes of alternative fuel vehicle owners.\n",
    "\n",
    "## Scope of analysis\n",
    "\n",
    "* California\n",
    "    * Divide the state into 34 Core Based Statistical Area (CBSA)\n",
    "* Household-based analysis (and not individual-based)\n",
    "    * Divide households into two categories: 1-vehicle-household and 2-or-more-vehicle-household\n",
    "* Alternative fuel vehicle:\n",
    "    * Battery electric vehicle (BEV)\n",
    "    * Plug-in hybrid electric vehicle (PHEV)\n",
    "    * Hybrid electric vehicle (HEV)"
   ]
  },
  {
   "cell_type": "markdown",
   "metadata": {
    "slideshow": {
     "slide_type": "slide"
    }
   },
   "source": [
    "## Methods\n",
    "\n",
    "* logistic regression\n",
    "* support vector machine\n",
    "* random forest\n",
    "* neural nets\n",
    "* anything else???"
   ]
  },
  {
   "cell_type": "markdown",
   "metadata": {
    "slideshow": {
     "slide_type": "slide"
    }
   },
   "source": [
    "__Household Variables__\n",
    "\n",
    "* HOUSEID - Household Identifier\n",
    "* HOMEOWN - Home Ownership\n",
    "* HHSIZE - Count of household members\n",
    "* HHVEHCNT - Count of household vehicles\n",
    "* HHFAMINC - Household income\n",
    "* DRVRCNT - Number of drivers in household\n",
    "* NUMADLT - Count of adult household members at least 18 years old\n",
    "* WRKCOUNT - Number of workers in household\n",
    "* LIF_CYC - Life Cycle classification for the household, derived by attributes pertaining to age, relationship, and work status\n",
    "* URBRUR - Household in urban/rural area\n",
    "* HH_RACE - Race of household respondent\n",
    "* HH_CBSA - Core Based Statistical Area (CBSA) FIPS code for the respondent’s home address\n",
    "* HTPPOPDN - Category of population density (persons per square mile) in the census tract of the household’s home location"
   ]
  },
  {
   "cell_type": "markdown",
   "metadata": {
    "slideshow": {
     "slide_type": "slide"
    }
   },
   "source": [
    "__Vehicle Variables__\n",
    "* HOUSEID - Household Identifier\n",
    "* VEHID - Vehicle Identifier\n",
    "* VEHYEAR - Vehicle Year\n",
    "* VEHAGE - Age of vehicle, based on model year\n",
    "* MAKE - Vehicle Make\n",
    "* MODEL - Vehicle Model\n",
    "* FUEL - Fuel Type\n",
    "* VEHTYPE - Vehicle Type\n",
    "* VEHMILES - Count of Miles Driven in Vehicle Over Last Year"
   ]
  },
  {
   "cell_type": "code",
   "execution_count": null,
   "metadata": {
    "slideshow": {
     "slide_type": "notes"
    }
   },
   "outputs": [],
   "source": [
    "houseid\n",
    "homeown\n",
    "hhsize\n",
    "hhvehcnt\n",
    "hhfaminc\n",
    "drvrcnt\n",
    "numadlt\n",
    "wrkcount\n",
    "lif_cyc\n",
    "urbrur\n",
    "hh_race\n",
    "hh_hisp\n",
    "hh_cbsa\n",
    "htppopdn\n",
    "\n",
    "houseid\n",
    "vehid\n",
    "vehyear\n",
    "vehage\n",
    "make\n",
    "model\n",
    "fueltype\n",
    "fueltype_o\n",
    "hfuel\n",
    "hfuel_o\n",
    "vehtype\n",
    "vehmiles"
   ]
  },
  {
   "cell_type": "code",
   "execution_count": 25,
   "metadata": {
    "slideshow": {
     "slide_type": "skip"
    }
   },
   "outputs": [],
   "source": [
    "import csv\n",
    "import pandas as pd \n",
    "import numpy as np"
   ]
  },
  {
   "cell_type": "code",
   "execution_count": 84,
   "metadata": {
    "slideshow": {
     "slide_type": "slide"
    }
   },
   "outputs": [],
   "source": [
    "# read data\n",
    "veh = pd.read_excel('data\\CA_Vehicle.xlsx')\n",
    "hh = pd.read_excel('data\\CA_Household.xlsx')"
   ]
  },
  {
   "cell_type": "code",
   "execution_count": 80,
   "metadata": {
    "slideshow": {
     "slide_type": "fragment"
    }
   },
   "outputs": [],
   "source": [
    "# recode fuel\n",
    "veh['fuel'] = np.nan\n",
    "veh['fuel'] = np.where(veh.fueltype == 1, 'ICE-G', veh['fuel']) # ICE-G\n",
    "veh['fuel'] = np.where(veh.fueltype == 2, 'ICE-D', veh['fuel']) # ICE-D\n",
    "veh['fuel'] = np.where(np.logical_and(veh.fueltype == 3,veh.hfuel == 2), 'PHEV', veh['fuel']) # 'PHEV'\n",
    "veh['fuel'] = np.where(np.logical_and(veh.fueltype == 3,veh.hfuel == 3), 'BEV', veh['fuel']) # 'BEV'\n",
    "veh['fuel'] = np.where(np.logical_and(veh.fueltype == 3,veh.hfuel == 4), 'HEV', veh['fuel']) # 'HEV'\n",
    "\n",
    "# recode race\n",
    "hh['race'] = hh['hh_race']\n",
    "hh['race'] = np.where(np.logical_and(hh.hh_race == 97,hh.hh_hisp == 1), 7, hh['race']) # hispanic"
   ]
  },
  {
   "cell_type": "code",
   "execution_count": 81,
   "metadata": {
    "slideshow": {
     "slide_type": "fragment"
    }
   },
   "outputs": [],
   "source": [
    "# merge\n",
    "data = pd.merge(veh[['houseid','vehid','vehyear','vehage','make','model','vehtype','fuel','vehmiles']], hh[['houseid','homeown','hhsize','hhvehcnt','hhfaminc','drvrcnt','numadlt','wrkcount','lif_cyc','urbrur','race','hh_cbsa','htppopdn']], on='houseid')"
   ]
  },
  {
   "cell_type": "code",
   "execution_count": 82,
   "metadata": {
    "scrolled": true,
    "slideshow": {
     "slide_type": "slide"
    }
   },
   "outputs": [
    {
     "name": "stdout",
     "output_type": "stream",
     "text": [
      "(52228, 21)\n"
     ]
    },
    {
     "data": {
      "text/html": [
       "<div>\n",
       "<style scoped>\n",
       "    .dataframe tbody tr th:only-of-type {\n",
       "        vertical-align: middle;\n",
       "    }\n",
       "\n",
       "    .dataframe tbody tr th {\n",
       "        vertical-align: top;\n",
       "    }\n",
       "\n",
       "    .dataframe thead th {\n",
       "        text-align: right;\n",
       "    }\n",
       "</style>\n",
       "<table border=\"1\" class=\"dataframe\">\n",
       "  <thead>\n",
       "    <tr style=\"text-align: right;\">\n",
       "      <th></th>\n",
       "      <th>houseid</th>\n",
       "      <th>vehid</th>\n",
       "      <th>vehyear</th>\n",
       "      <th>vehage</th>\n",
       "      <th>make</th>\n",
       "      <th>model</th>\n",
       "      <th>vehtype</th>\n",
       "      <th>fuel</th>\n",
       "      <th>vehmiles</th>\n",
       "      <th>homeown</th>\n",
       "      <th>...</th>\n",
       "      <th>hhvehcnt</th>\n",
       "      <th>hhfaminc</th>\n",
       "      <th>drvrcnt</th>\n",
       "      <th>numadlt</th>\n",
       "      <th>wrkcount</th>\n",
       "      <th>lif_cyc</th>\n",
       "      <th>urbrur</th>\n",
       "      <th>race</th>\n",
       "      <th>hh_cbsa</th>\n",
       "      <th>htppopdn</th>\n",
       "    </tr>\n",
       "  </thead>\n",
       "  <tbody>\n",
       "    <tr>\n",
       "      <td>0</td>\n",
       "      <td>30027253</td>\n",
       "      <td>2</td>\n",
       "      <td>2012</td>\n",
       "      <td>5</td>\n",
       "      <td>49</td>\n",
       "      <td>49032</td>\n",
       "      <td>1</td>\n",
       "      <td>ICE-G</td>\n",
       "      <td>17000</td>\n",
       "      <td>1</td>\n",
       "      <td>...</td>\n",
       "      <td>4</td>\n",
       "      <td>6</td>\n",
       "      <td>4</td>\n",
       "      <td>4</td>\n",
       "      <td>1</td>\n",
       "      <td>2</td>\n",
       "      <td>1</td>\n",
       "      <td>3</td>\n",
       "      <td>31080</td>\n",
       "      <td>7000</td>\n",
       "    </tr>\n",
       "    <tr>\n",
       "      <td>1</td>\n",
       "      <td>30027253</td>\n",
       "      <td>3</td>\n",
       "      <td>2010</td>\n",
       "      <td>7</td>\n",
       "      <td>37</td>\n",
       "      <td>37031</td>\n",
       "      <td>1</td>\n",
       "      <td>ICE-G</td>\n",
       "      <td>10500</td>\n",
       "      <td>1</td>\n",
       "      <td>...</td>\n",
       "      <td>4</td>\n",
       "      <td>6</td>\n",
       "      <td>4</td>\n",
       "      <td>4</td>\n",
       "      <td>1</td>\n",
       "      <td>2</td>\n",
       "      <td>1</td>\n",
       "      <td>3</td>\n",
       "      <td>31080</td>\n",
       "      <td>7000</td>\n",
       "    </tr>\n",
       "    <tr>\n",
       "      <td>2</td>\n",
       "      <td>30027253</td>\n",
       "      <td>4</td>\n",
       "      <td>2007</td>\n",
       "      <td>10</td>\n",
       "      <td>49</td>\n",
       "      <td>49032</td>\n",
       "      <td>1</td>\n",
       "      <td>ICE-G</td>\n",
       "      <td>12500</td>\n",
       "      <td>1</td>\n",
       "      <td>...</td>\n",
       "      <td>4</td>\n",
       "      <td>6</td>\n",
       "      <td>4</td>\n",
       "      <td>4</td>\n",
       "      <td>1</td>\n",
       "      <td>2</td>\n",
       "      <td>1</td>\n",
       "      <td>3</td>\n",
       "      <td>31080</td>\n",
       "      <td>7000</td>\n",
       "    </tr>\n",
       "    <tr>\n",
       "      <td>3</td>\n",
       "      <td>30027253</td>\n",
       "      <td>1</td>\n",
       "      <td>2013</td>\n",
       "      <td>4</td>\n",
       "      <td>37</td>\n",
       "      <td>37402</td>\n",
       "      <td>3</td>\n",
       "      <td>ICE-G</td>\n",
       "      <td>12000</td>\n",
       "      <td>1</td>\n",
       "      <td>...</td>\n",
       "      <td>4</td>\n",
       "      <td>6</td>\n",
       "      <td>4</td>\n",
       "      <td>4</td>\n",
       "      <td>1</td>\n",
       "      <td>2</td>\n",
       "      <td>1</td>\n",
       "      <td>3</td>\n",
       "      <td>31080</td>\n",
       "      <td>7000</td>\n",
       "    </tr>\n",
       "    <tr>\n",
       "      <td>4</td>\n",
       "      <td>30027721</td>\n",
       "      <td>1</td>\n",
       "      <td>2015</td>\n",
       "      <td>2</td>\n",
       "      <td>37</td>\n",
       "      <td>37031</td>\n",
       "      <td>1</td>\n",
       "      <td>ICE-G</td>\n",
       "      <td>5000</td>\n",
       "      <td>2</td>\n",
       "      <td>...</td>\n",
       "      <td>2</td>\n",
       "      <td>11</td>\n",
       "      <td>2</td>\n",
       "      <td>2</td>\n",
       "      <td>2</td>\n",
       "      <td>2</td>\n",
       "      <td>1</td>\n",
       "      <td>6</td>\n",
       "      <td>41940</td>\n",
       "      <td>17000</td>\n",
       "    </tr>\n",
       "  </tbody>\n",
       "</table>\n",
       "<p>5 rows × 21 columns</p>\n",
       "</div>"
      ],
      "text/plain": [
       "    houseid  vehid  vehyear  vehage  make  model  vehtype   fuel  vehmiles  \\\n",
       "0  30027253      2     2012       5    49  49032        1  ICE-G     17000   \n",
       "1  30027253      3     2010       7    37  37031        1  ICE-G     10500   \n",
       "2  30027253      4     2007      10    49  49032        1  ICE-G     12500   \n",
       "3  30027253      1     2013       4    37  37402        3  ICE-G     12000   \n",
       "4  30027721      1     2015       2    37  37031        1  ICE-G      5000   \n",
       "\n",
       "   homeown  ...  hhvehcnt  hhfaminc  drvrcnt  numadlt  wrkcount  lif_cyc  \\\n",
       "0        1  ...         4         6        4        4         1        2   \n",
       "1        1  ...         4         6        4        4         1        2   \n",
       "2        1  ...         4         6        4        4         1        2   \n",
       "3        1  ...         4         6        4        4         1        2   \n",
       "4        2  ...         2        11        2        2         2        2   \n",
       "\n",
       "   urbrur  race  hh_cbsa htppopdn  \n",
       "0       1     3    31080     7000  \n",
       "1       1     3    31080     7000  \n",
       "2       1     3    31080     7000  \n",
       "3       1     3    31080     7000  \n",
       "4       1     6    41940    17000  \n",
       "\n",
       "[5 rows x 21 columns]"
      ]
     },
     "execution_count": 82,
     "metadata": {},
     "output_type": "execute_result"
    }
   ],
   "source": [
    "print(data.shape)\n",
    "data.head()"
   ]
  },
  {
   "cell_type": "markdown",
   "metadata": {
    "slideshow": {
     "slide_type": "slide"
    }
   },
   "source": [
    "## Unbalanced data"
   ]
  },
  {
   "cell_type": "code",
   "execution_count": 83,
   "metadata": {
    "slideshow": {
     "slide_type": "-"
    }
   },
   "outputs": [
    {
     "data": {
      "text/plain": [
       "ICE-G    47686\n",
       "ICE-D     1919\n",
       "HEV       1866\n",
       "BEV        326\n",
       "PHEV       258\n",
       "nan        173\n",
       "Name: fuel, dtype: int64"
      ]
     },
     "execution_count": 83,
     "metadata": {},
     "output_type": "execute_result"
    }
   ],
   "source": [
    "data.fuel.value_counts(dropna=False)"
   ]
  },
  {
   "cell_type": "markdown",
   "metadata": {
    "slideshow": {
     "slide_type": "slide"
    }
   },
   "source": [
    "## Questions\n",
    "\n",
    "* There are many NaN values (\"I don't know\", \"I prefer no to answer\", etc) - what to do?\n",
    "* Can unsupervised learning tools be applied here?\n",
    "* What supervised ML tools should we use?"
   ]
  }
 ],
 "metadata": {
  "celltoolbar": "Slideshow",
  "kernelspec": {
   "display_name": "Python 3",
   "language": "python",
   "name": "python3"
  },
  "language_info": {
   "codemirror_mode": {
    "name": "ipython",
    "version": 3
   },
   "file_extension": ".py",
   "mimetype": "text/x-python",
   "name": "python",
   "nbconvert_exporter": "python",
   "pygments_lexer": "ipython3",
   "version": "3.7.4"
  }
 },
 "nbformat": 4,
 "nbformat_minor": 4
}
