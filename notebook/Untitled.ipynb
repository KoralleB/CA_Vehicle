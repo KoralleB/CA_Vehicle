{
 "cells": [
  {
   "cell_type": "code",
   "execution_count": 4,
   "metadata": {},
   "outputs": [],
   "source": [
    "import numpy as np"
   ]
  },
  {
   "cell_type": "code",
   "execution_count": 5,
   "metadata": {},
   "outputs": [],
   "source": [
    "y_true = np.load('../output_files/y_test.npy')"
   ]
  },
  {
   "cell_type": "code",
   "execution_count": 6,
   "metadata": {},
   "outputs": [],
   "source": [
    "y_prediction = np.load('../output_files/y_pred_rf_over.npy')"
   ]
  },
  {
   "cell_type": "code",
   "execution_count": 7,
   "metadata": {},
   "outputs": [
    {
     "name": "stdout",
     "output_type": "stream",
     "text": [
      "0.303886925795053\n",
      "0.8863060016906171\n",
      "0.9606046724690792\n"
     ]
    }
   ],
   "source": [
    "FP = np.logical_and(y_true != y_prediction, y_prediction != 1).sum()\n",
    "FN = np.logical_and(y_true != y_prediction, y_prediction == 1).sum()\n",
    "TP = np.logical_and(y_true == y_prediction, y_true != 1).sum()\n",
    "TN = np.logical_and(y_true == y_prediction, y_true == 1).sum()\n",
    "FPR = 1. * FP / (FP + TN)\n",
    "TPR = 1. * TP / (TP + FN)\n",
    "PPV = 1. * TP / (TP + FP)\n",
    "print(FPR)\n",
    "print(TPR)\n",
    "print(PPV)"
   ]
  },
  {
   "cell_type": "code",
   "execution_count": 8,
   "metadata": {},
   "outputs": [],
   "source": [
    "y_prediction = np.load('../output_files/y_pred_rf_smote.npy')"
   ]
  },
  {
   "cell_type": "code",
   "execution_count": 9,
   "metadata": {},
   "outputs": [
    {
     "name": "stdout",
     "output_type": "stream",
     "text": [
      "0.4452296819787986\n",
      "0.9289940828402367\n",
      "0.9457831325301205\n"
     ]
    }
   ],
   "source": [
    "FP = np.logical_and(y_true != y_prediction, y_prediction != 1).sum()\n",
    "FN = np.logical_and(y_true != y_prediction, y_prediction == 1).sum()\n",
    "TP = np.logical_and(y_true == y_prediction, y_true != 1).sum()\n",
    "TN = np.logical_and(y_true == y_prediction, y_true == 1).sum()\n",
    "FPR = 1. * FP / (FP + TN)\n",
    "TPR = 1. * TP / (TP + FN)\n",
    "PPV = 1. * TP / (TP + FP)\n",
    "print(FPR)\n",
    "print(TPR)\n",
    "print(PPV)"
   ]
  },
  {
   "cell_type": "code",
   "execution_count": 10,
   "metadata": {},
   "outputs": [],
   "source": [
    "y_prediction = np.load('../output_files/y_pred_log_over.npy')"
   ]
  },
  {
   "cell_type": "code",
   "execution_count": 11,
   "metadata": {},
   "outputs": [
    {
     "name": "stdout",
     "output_type": "stream",
     "text": [
      "0.254416961130742\n",
      "0.8212172442941674\n",
      "0.9642679900744416\n"
     ]
    }
   ],
   "source": [
    "FP = np.logical_and(y_true != y_prediction, y_prediction != 1).sum()\n",
    "FN = np.logical_and(y_true != y_prediction, y_prediction == 1).sum()\n",
    "TP = np.logical_and(y_true == y_prediction, y_true != 1).sum()\n",
    "TN = np.logical_and(y_true == y_prediction, y_true == 1).sum()\n",
    "FPR = 1. * FP / (FP + TN)\n",
    "TPR = 1. * TP / (TP + FN)\n",
    "PPV = 1. * TP / (TP + FP)\n",
    "print(FPR)\n",
    "print(TPR)\n",
    "print(PPV)"
   ]
  },
  {
   "cell_type": "code",
   "execution_count": 12,
   "metadata": {},
   "outputs": [],
   "source": [
    "y_prediction = np.load('../output_files/y_pred_log_smote.npy')"
   ]
  },
  {
   "cell_type": "code",
   "execution_count": 13,
   "metadata": {},
   "outputs": [
    {
     "name": "stdout",
     "output_type": "stream",
     "text": [
      "0.2791519434628975\n",
      "0.8398140321217245\n",
      "0.9617618586640851\n"
     ]
    }
   ],
   "source": [
    "FP = np.logical_and(y_true != y_prediction, y_prediction != 1).sum()\n",
    "FN = np.logical_and(y_true != y_prediction, y_prediction == 1).sum()\n",
    "TP = np.logical_and(y_true == y_prediction, y_true != 1).sum()\n",
    "TN = np.logical_and(y_true == y_prediction, y_true == 1).sum()\n",
    "FPR = 1. * FP / (FP + TN)\n",
    "TPR = 1. * TP / (TP + FN)\n",
    "PPV = 1. * TP / (TP + FP)\n",
    "print(FPR)\n",
    "print(TPR)\n",
    "print(PPV)"
   ]
  },
  {
   "cell_type": "code",
   "execution_count": null,
   "metadata": {},
   "outputs": [],
   "source": []
  }
 ],
 "metadata": {
  "kernelspec": {
   "display_name": "Python 3",
   "language": "python",
   "name": "python3"
  },
  "language_info": {
   "codemirror_mode": {
    "name": "ipython",
    "version": 3
   },
   "file_extension": ".py",
   "mimetype": "text/x-python",
   "name": "python",
   "nbconvert_exporter": "python",
   "pygments_lexer": "ipython3",
   "version": "3.7.4"
  }
 },
 "nbformat": 4,
 "nbformat_minor": 4
}
